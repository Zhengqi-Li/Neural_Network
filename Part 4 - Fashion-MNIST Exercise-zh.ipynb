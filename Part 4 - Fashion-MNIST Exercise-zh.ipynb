{
 "cells": [
  {
   "cell_type": "markdown",
   "metadata": {},
   "source": [
    "# 分类 Fashion-MNIST 数据集\n",
    "\n",
    "现在轮到你来构建一个神经网络了。你将使用的是 [Fashion-MNIST 数据集](https://github.com/zalandoresearch/fashion-mnist)，这是 MNIST 数据集的替代品。对于神经网络而言，原始的 MNIST 数据集体量太小，因而你可以轻易达到 97% 以上的准确率。而 Fashion-MNIST 数据集是一组有关衣物的 28x28 灰阶图像。这个数据集比 MNIST 复杂得多，因此你能更好地判断神经网络的性能，它也更加接近你在现实世界中使用的数据集。\n",
    "\n",
    "<img src='assets/fashion-mnist-sprite.png' width=500px>\n",
    "\n",
    "在这个 notebook 中，你将构建专属于你的神经网络。在大多数情况下，你可以直接复制粘贴第三部分的代码，但这样一来你很难学到知识。因此我们推荐你自己编写代码来运行程序，这十分重要。不过在完成这个任务时，你也可以随时查阅和参考之前的 notebook。\n",
    "\n",
    "首先，我们通过 torchvision 来加载数据集。"
   ]
  },
  {
   "cell_type": "code",
   "execution_count": 1,
   "metadata": {},
   "outputs": [],
   "source": [
    "import torch\n",
    "from torchvision import datasets, transforms\n",
    "import helper\n",
    "\n",
    "# Define a transform to normalize the data\n",
    "transform = transforms.Compose([transforms.ToTensor(),\n",
    "                                transforms.Normalize((0.5, 0.5, 0.5), (0.5, 0.5, 0.5))])\n",
    "# Download and load the training data\n",
    "trainset = datasets.FashionMNIST('F_MNIST_data/', download=True, train=True, transform=transform)\n",
    "trainloader = torch.utils.data.DataLoader(trainset, batch_size=64, shuffle=True)\n",
    "\n",
    "# Download and load the test data\n",
    "testset = datasets.FashionMNIST('F_MNIST_data/', download=True, train=False, transform=transform)\n",
    "testloader = torch.utils.data.DataLoader(testset, batch_size=64, shuffle=True)"
   ]
  },
  {
   "cell_type": "markdown",
   "metadata": {},
   "source": [
    "在这里，我们能看到其中一张图片。"
   ]
  },
  {
   "cell_type": "code",
   "execution_count": 2,
   "metadata": {},
   "outputs": [
    {
     "data": {
      "image/png": "[encoded data removed]",
      "text/plain": [
       "<matplotlib.figure.Figure at 0x7fc3fe8916a0>"
      ]
     },
     "metadata": {},
     "output_type": "display_data"
    }
   ],
   "source": [
    "image, label = next(iter(trainloader))\n",
    "helper.imshow(image[0,:]);"
   ]
  },
  {
   "cell_type": "markdown",
   "metadata": {},
   "source": [
    "在加载数据之后，我们应该导入一些必要的包了。"
   ]
  },
  {
   "cell_type": "code",
   "execution_count": 3,
   "metadata": {},
   "outputs": [],
   "source": [
    "%matplotlib inline\n",
    "%config InlineBackend.figure_format = 'retina'\n",
    "\n",
    "import matplotlib.pyplot as plt\n",
    "import numpy as np\n",
    "import time\n",
    "\n",
    "import torch\n",
    "from torch import nn\n",
    "from torch import optim\n",
    "import torch.nn.functional as F\n",
    "from torch.autograd import Variable\n",
    "from torchvision import datasets, transforms\n",
    "\n",
    "import helper"
   ]
  },
  {
   "cell_type": "markdown",
   "metadata": {},
   "source": [
    "## 构建网络\n",
    "\n",
    "在这里，你应该定义你的网络。如同 MNIST 数据集一样，这里的每张图片的像素为 28x28，共有 784 个像素点和 10 个类。你至少需要添加一个隐藏层。对于这些层，我们推荐你使用 ReLU 激活函数，并通过前向传播来返回 logits。层的数量和大小都由你来决定。"
   ]
  },
  {
   "cell_type": "code",
   "execution_count": 4,
   "metadata": {},
   "outputs": [],
   "source": [
    "# TODO: Define your network architecture here\n",
    "class Network(nn.Module):\n",
    "    def __init__(self, input_size, output_size, hidden_layers, drop_p=0.5):\n",
    "        ''' Builds a feedforward network with arbitrary hidden layers.\n",
    "        \n",
    "            Arguments\n",
    "            ---------\n",
    "            input_size: integer, size of the input\n",
    "            output_size: integer, size of the output layer\n",
    "            hidden_layers: list of integers, the sizes of the hidden layers\n",
    "            drop_p: float between 0 and 1, dropout probability\n",
    "        '''\n",
    "        super().__init__()\n",
    "        # Add the first layer, input to a hidden layer\n",
    "        self.hidden_layers = nn.ModuleList([nn.Linear(input_size, hidden_layers[0])])\n",
    "        \n",
    "        # Add a variable number of more hidden layers\n",
    "        layer_sizes = zip(hidden_layers[:-1], hidden_layers[1:])\n",
    "        self.hidden_layers.extend([nn.Linear(h1, h2) for h1, h2 in layer_sizes])\n",
    "        \n",
    "        self.output = nn.Linear(hidden_layers[-1], output_size)\n",
    "        \n",
    "        self.dropout = nn.Dropout(p=drop_p)\n",
    "        \n",
    "    def forward(self, x):\n",
    "        ''' Forward pass through the network, returns the output logits '''\n",
    "        \n",
    "        for each in self.hidden_layers:\n",
    "            x = F.relu(each(x))\n",
    "            x = self.dropout(x)\n",
    "        x = self.output(x)\n",
    "        \n",
    "        return F.log_softmax(x, dim=1)"
   ]
  },
  {
   "cell_type": "markdown",
   "metadata": {},
   "source": [
    "# 训练网络\n",
    "\n",
    "现在，你应该构建你的网络并训练它了。首先，你需要定义[条件](http://pytorch.org/docs/master/nn.html#loss-functions)（比如 `nn.CrossEntropyLoss`）以及[优化器](http://pytorch.org/docs/master/optim.html)（比如 `optim.SGD` 或 `optim.Adam`）。\n",
    "\n",
    "接着，你需要编写训练代码。请记住，训练传播是一个十分简明的过程：\n",
    "\n",
    "* 在网络中进行前向传播来获取 logits \n",
    "* 使用 logits 来计算损失\n",
    "* 使用 `loss.backward()` 在网络中进行后向传播来计算梯度\n",
    "* 使用优化器执行一个学习步来更新权重\n",
    "\n",
    "通过调整超参数（隐藏单元、学习速率等），你应该可以将训练损失控制在 0.4 以下。"
   ]
  },
  {
   "cell_type": "code",
   "execution_count": 5,
   "metadata": {},
   "outputs": [],
   "source": [
    "# TODO: Create the network, define the criterion and optimizer\n",
    "model = Network(784, 10, [500], drop_p=0.5)\n",
    "criterion = nn.NLLLoss()\n",
    "optimizer = optim.Adam(model.parameters(), lr=0.1)"
   ]
  },
  {
   "cell_type": "code",
   "execution_count": 6,
   "metadata": {},
   "outputs": [
    {
     "name": "stderr",
     "output_type": "stream",
     "text": [
      "/opt/conda/lib/python3.6/site-packages/ipykernel_launcher.py:24: UserWarning: invalid index of a 0-dim tensor. This will be an error in PyTorch 0.5. Use tensor.item() to convert a 0-dim tensor to a Python number\n",
      "/opt/conda/lib/python3.6/site-packages/ipykernel_launcher.py:36: UserWarning: volatile was removed and now has no effect. Use `with torch.no_grad():` instead.\n",
      "/opt/conda/lib/python3.6/site-packages/ipykernel_launcher.py:37: UserWarning: volatile was removed and now has no effect. Use `with torch.no_grad():` instead.\n",
      "/opt/conda/lib/python3.6/site-packages/ipykernel_launcher.py:40: UserWarning: invalid index of a 0-dim tensor. This will be an error in PyTorch 0.5. Use tensor.item() to convert a 0-dim tensor to a Python number\n"
     ]
    },
    {
     "name": "stdout",
     "output_type": "stream",
     "text": [
      "Epoch: 1/2..  Training Loss: 63.437..  Test Loss: 7.448..  Test Accuracy: 0.389\n",
      "Epoch: 1/2..  Training Loss: 6.521..  Test Loss: 4.192..  Test Accuracy: 0.376\n",
      "Epoch: 1/2..  Training Loss: 9.879..  Test Loss: 5.797..  Test Accuracy: 0.350\n",
      "Epoch: 1/2..  Training Loss: 6.241..  Test Loss: 3.085..  Test Accuracy: 0.309\n",
      "Epoch: 1/2..  Training Loss: 2.675..  Test Loss: 2.569..  Test Accuracy: 0.300\n",
      "Epoch: 1/2..  Training Loss: 4.374..  Test Loss: 3.758..  Test Accuracy: 0.292\n",
      "Epoch: 1/2..  Training Loss: 6.290..  Test Loss: 4.763..  Test Accuracy: 0.265\n",
      "Epoch: 1/2..  Training Loss: 3.760..  Test Loss: 3.651..  Test Accuracy: 0.260\n",
      "Epoch: 1/2..  Training Loss: 4.604..  Test Loss: 9.175..  Test Accuracy: 0.236\n",
      "Epoch: 1/2..  Training Loss: 3.339..  Test Loss: 3.201..  Test Accuracy: 0.176\n",
      "Epoch: 1/2..  Training Loss: 3.192..  Test Loss: 3.272..  Test Accuracy: 0.183\n",
      "Epoch: 1/2..  Training Loss: 3.539..  Test Loss: 2.835..  Test Accuracy: 0.207\n",
      "Epoch: 1/2..  Training Loss: 2.744..  Test Loss: 2.670..  Test Accuracy: 0.180\n",
      "Epoch: 1/2..  Training Loss: 3.159..  Test Loss: 3.020..  Test Accuracy: 0.195\n",
      "Epoch: 1/2..  Training Loss: 4.146..  Test Loss: 3.850..  Test Accuracy: 0.134\n",
      "Epoch: 1/2..  Training Loss: 2.458..  Test Loss: 2.616..  Test Accuracy: 0.197\n",
      "Epoch: 1/2..  Training Loss: 3.113..  Test Loss: 2.541..  Test Accuracy: 0.200\n",
      "Epoch: 1/2..  Training Loss: 2.544..  Test Loss: 2.787..  Test Accuracy: 0.183\n",
      "Epoch: 1/2..  Training Loss: 2.719..  Test Loss: 2.454..  Test Accuracy: 0.164\n",
      "Epoch: 1/2..  Training Loss: 3.153..  Test Loss: 5.465..  Test Accuracy: 0.132\n",
      "Epoch: 1/2..  Training Loss: 2.961..  Test Loss: 2.641..  Test Accuracy: 0.168\n",
      "Epoch: 1/2..  Training Loss: 2.744..  Test Loss: 2.627..  Test Accuracy: 0.145\n",
      "Epoch: 1/2..  Training Loss: 2.640..  Test Loss: 3.322..  Test Accuracy: 0.132\n",
      "Epoch: 2/2..  Training Loss: 4.977..  Test Loss: 3.345..  Test Accuracy: 0.133\n",
      "Epoch: 2/2..  Training Loss: 2.910..  Test Loss: 2.542..  Test Accuracy: 0.124\n",
      "Epoch: 2/2..  Training Loss: 2.540..  Test Loss: 2.531..  Test Accuracy: 0.107\n",
      "Epoch: 2/2..  Training Loss: 2.392..  Test Loss: 2.578..  Test Accuracy: 0.172\n",
      "Epoch: 2/2..  Training Loss: 5.198..  Test Loss: 6.003..  Test Accuracy: 0.207\n",
      "Epoch: 2/2..  Training Loss: 3.678..  Test Loss: 3.438..  Test Accuracy: 0.171\n",
      "Epoch: 2/2..  Training Loss: 2.915..  Test Loss: 2.914..  Test Accuracy: 0.155\n",
      "Epoch: 2/2..  Training Loss: 3.668..  Test Loss: 2.460..  Test Accuracy: 0.153\n",
      "Epoch: 2/2..  Training Loss: 3.398..  Test Loss: 2.381..  Test Accuracy: 0.162\n",
      "Epoch: 2/2..  Training Loss: 2.387..  Test Loss: 2.395..  Test Accuracy: 0.137\n",
      "Epoch: 2/2..  Training Loss: 3.013..  Test Loss: 2.696..  Test Accuracy: 0.104\n",
      "Epoch: 2/2..  Training Loss: 3.436..  Test Loss: 2.410..  Test Accuracy: 0.105\n",
      "Epoch: 2/2..  Training Loss: 2.938..  Test Loss: 2.755..  Test Accuracy: 0.114\n",
      "Epoch: 2/2..  Training Loss: 2.355..  Test Loss: 2.601..  Test Accuracy: 0.104\n",
      "Epoch: 2/2..  Training Loss: 2.315..  Test Loss: 2.599..  Test Accuracy: 0.117\n",
      "Epoch: 2/2..  Training Loss: 2.422..  Test Loss: 2.566..  Test Accuracy: 0.104\n",
      "Epoch: 2/2..  Training Loss: 2.310..  Test Loss: 2.615..  Test Accuracy: 0.102\n",
      "Epoch: 2/2..  Training Loss: 4.897..  Test Loss: 2.796..  Test Accuracy: 0.106\n",
      "Epoch: 2/2..  Training Loss: 2.470..  Test Loss: 2.603..  Test Accuracy: 0.106\n",
      "Epoch: 2/2..  Training Loss: 4.632..  Test Loss: 2.540..  Test Accuracy: 0.106\n",
      "Epoch: 2/2..  Training Loss: 2.357..  Test Loss: 2.349..  Test Accuracy: 0.103\n",
      "Epoch: 2/2..  Training Loss: 6.563..  Test Loss: 2.515..  Test Accuracy: 0.104\n",
      "Epoch: 2/2..  Training Loss: 2.492..  Test Loss: 2.582..  Test Accuracy: 0.105\n"
     ]
    }
   ],
   "source": [
    "# TODO: Train the network here\n",
    "epochs = 2\n",
    "steps = 0\n",
    "running_loss = 0\n",
    "print_every = 40\n",
    "for e in range(epochs):\n",
    "    # Model in training mode, dropout is on\n",
    "    model.train()\n",
    "    for images, labels in iter(trainloader):\n",
    "        steps += 1\n",
    "        # Flatten images into a 784 long vector\n",
    "        images.resize_(images.size()[0], 784)\n",
    "        \n",
    "        # Wrap images and labels in Variables so we can calculate gradients\n",
    "        inputs = Variable(images)\n",
    "        targets = Variable(labels)\n",
    "        optimizer.zero_grad()\n",
    "        \n",
    "        output = model.forward(inputs)\n",
    "        loss = criterion(output, targets)\n",
    "        loss.backward()\n",
    "        optimizer.step()\n",
    "        \n",
    "        running_loss += loss.data[0]\n",
    "        \n",
    "        if steps % print_every == 0:\n",
    "            # Model in inference mode, dropout is off\n",
    "            model.eval()\n",
    "            \n",
    "            accuracy = 0\n",
    "            test_loss = 0\n",
    "            for ii, (images, labels) in enumerate(testloader):\n",
    "                \n",
    "                images = images.resize_(images.size()[0], 784)\n",
    "                # Set volatile to True so we don't save the history\n",
    "                inputs = Variable(images, volatile=True)\n",
    "                labels = Variable(labels, volatile=True)\n",
    "\n",
    "                output = model.forward(inputs)\n",
    "                test_loss += criterion(output, labels).data[0]\n",
    "                \n",
    "                ## Calculating the accuracy \n",
    "                # Model's output is log-softmax, take exponential to get the probabilities\n",
    "                ps = torch.exp(output).data\n",
    "                # Class with highest probability is our predicted class, compare with true label\n",
    "                equality = (labels.data == ps.max(1)[1])\n",
    "                # Accuracy is number of correct predictions divided by all predictions, just take the mean\n",
    "                accuracy += equality.type_as(torch.FloatTensor()).mean()\n",
    "            \n",
    "            print(\"Epoch: {}/{}.. \".format(e+1, epochs),\n",
    "                  \"Training Loss: {:.3f}.. \".format(running_loss/print_every),\n",
    "                  \"Test Loss: {:.3f}.. \".format(test_loss/len(testloader)),\n",
    "                  \"Test Accuracy: {:.3f}\".format(accuracy/len(testloader)))\n",
    "            \n",
    "            running_loss = 0\n",
    "            \n",
    "            # Make sure dropout is on for training\n",
    "            model.train()"
   ]
  },
  {
   "cell_type": "code",
   "execution_count": 7,
   "metadata": {},
   "outputs": [
    {
     "name": "stderr",
     "output_type": "stream",
     "text": [
      "/opt/conda/lib/python3.6/site-packages/ipykernel_launcher.py:10: UserWarning: volatile was removed and now has no effect. Use `with torch.no_grad():` instead.\n",
      "  # Remove the CWD from sys.path while we load stuff.\n"
     ]
    },
    {
     "data": {
      "image/png": "[encoded data removed]",
      "text/plain": [
       "<matplotlib.figure.Figure at 0x7fc3fe7accf8>"
      ]
     },
     "metadata": {
      "image/png": {
       "height": 224,
       "width": 423
      }
     },
     "output_type": "display_data"
    }
   ],
   "source": [
    "# Test out your network!\n",
    "\n",
    "dataiter = iter(testloader)\n",
    "images, labels = dataiter.next()\n",
    "img = images[0]\n",
    "# Convert 2D image to 1D vector\n",
    "img = img.resize_(1, 784)\n",
    "\n",
    "# TODO: Calculate the class probabilities (softmax) for img\n",
    "output = model.forward(Variable(img, volatile=True))\n",
    "ps = torch.exp(output)\n",
    "# Plot the image and probabilities\n",
    "helper.view_classify(img.resize_(1, 28, 28), ps)"
   ]
  },
  {
   "cell_type": "code",
   "execution_count": null,
   "metadata": {},
   "outputs": [],
   "source": []
  },
  {
   "cell_type": "markdown",
   "metadata": {},
   "source": [
    "训练好神经网络之后，你应该希望保存这个网络以便下次加载，而不是重新训练。很明显，每次使用时都重新训练网络并不现实。在实际操作中，你将会在训练网络之后将模型保存，接着重新加载网络以进行训练或是预测。在下一部分，我将为你展示如何保存和加载训练好的模型。"
   ]
  }
 ],
 "metadata": {
  "kernelspec": {
   "display_name": "Python [default]",
   "language": "python",
   "name": "python3"
  },
  "language_info": {
   "codemirror_mode": {
    "name": "ipython",
    "version": 3
   },
   "file_extension": ".py",
   "mimetype": "text/x-python",
   "name": "python",
   "nbconvert_exporter": "python",
   "pygments_lexer": "ipython3",
   "version": "3.6.6"
  }
 },
 "nbformat": 4,
 "nbformat_minor": 2
}
